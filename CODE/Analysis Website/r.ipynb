{
 "cells": [
  {
   "cell_type": "code",
   "execution_count": 4,
   "id": "fca412a2",
   "metadata": {},
   "outputs": [
    {
     "name": "stdout",
     "output_type": "stream",
     "text": [
      "Columns: Index(['STATION CODE', 'STATE', 'TEMPERATURE_Min', 'TEMPERATURE_Max', 'DO_Min',\n",
      "       'DO_MAX', 'pH_Min', 'PH_Max', 'CONDUCTIVITY_Min', 'CONDUCTIVITY_Max',\n",
      "       'BOD_Min', 'BOD_Max', 'NITRATE_NITRATE_Min', 'NITRATE_NITRATE_Max',\n",
      "       'FECALCOLIFORM_Min', 'FECALCOLIFORM_Max', 'TOTALCOLIFORM_Min',\n",
      "       'TOTALCOLIFORM_Max', 'Latitude', 'Longitude', 'Year', 'Unnamed: 18',\n",
      "       'Unnamed: 19', 'Unnamed: 20', 'Unnamed: 21', 'Unnamed: 22',\n",
      "       'Unnamed: 23', 'Unnamed: 24', 'Unnamed: 25', 'Unnamed: 26',\n",
      "       'Unnamed: 27', 'Unnamed: 28', 'Unnamed: 29', 'Unnamed: 30',\n",
      "       'Unnamed: 31', 'Unnamed: 32', 'Unnamed: 33', 'Unnamed: 34',\n",
      "       'Unnamed: 35', 'Unnamed: 36', 'FecalStreptococci_Min',\n",
      "       'FecalStreptococci_Max', 'Unnamed: 37', 'Unnamed: 38', 'Unnamed: 39',\n",
      "       'Unnamed: 40', 'Unnamed: 41', 'Unnamed: 42', 'Unnamed: 43',\n",
      "       'Unnamed: 44', 'Unnamed: 45', 'Unnamed: 46', 'Unnamed: 47',\n",
      "       'Unnamed: 48', 'Unnamed: 49', 'Unnamed: 50', 'Unnamed: 51',\n",
      "       'Unnamed: 52', 'Unnamed: 53', 'Unnamed: 54', 'Unnamed: 55',\n",
      "       'Unnamed: 56', 'Unnamed: 57', 'Unnamed: 58', 'Unnamed: 59',\n",
      "       'Unnamed: 60', 'Unnamed: 61', 'Unnamed: 62', 'Unnamed: 63'],\n",
      "      dtype='object')\n"
     ]
    }
   ],
   "source": [
    "import os\n",
    "import pandas as pd\n",
    "\n",
    "# 1. Path to the folder\n",
    "river_folder = \"data/rivers_with_locations\"\n",
    "\n",
    "# 2. Grab all CSV files from the folder\n",
    "river_files = [f for f in os.listdir(river_folder) if f.endswith('.csv')]\n",
    "\n",
    "# 3. Read and merge them with a 'Year' column\n",
    "all_data = []\n",
    "\n",
    "for filename in sorted(river_files):\n",
    "    file_path = os.path.join(river_folder, filename)\n",
    "    df = pd.read_csv(file_path)\n",
    "\n",
    "    # Extract year from filename (assuming format: rivers_with_location_YYYY.csv)\n",
    "    year = int(filename.split(\"_\")[-1].replace(\".csv\", \"\"))\n",
    "    df[\"Year\"] = year\n",
    "    all_data.append(df)\n",
    "\n",
    "# 4. Concatenate all yearly data\n",
    "river_data = pd.concat(all_data, ignore_index=True)\n",
    "\n",
    "# 5. Show structure\n",
    "# print(\"Shape:\", river_data.shape)\n",
    "\n",
    "# print(\"Number of columns:\", len(river_data.columns))\n",
    "print(\"Columns:\", river_data.columns)\n",
    "# print(river_data.head())\n"
   ]
  }
 ],
 "metadata": {
  "kernelspec": {
   "display_name": "Python 3",
   "language": "python",
   "name": "python3"
  },
  "language_info": {
   "codemirror_mode": {
    "name": "ipython",
    "version": 3
   },
   "file_extension": ".py",
   "mimetype": "text/x-python",
   "name": "python",
   "nbconvert_exporter": "python",
   "pygments_lexer": "ipython3",
   "version": "3.12.1"
  }
 },
 "nbformat": 4,
 "nbformat_minor": 5
}
