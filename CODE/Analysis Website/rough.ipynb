{
 "cells": [
  {
   "cell_type": "code",
   "execution_count": 18,
   "metadata": {},
   "outputs": [],
   "source": [
    "import pandas as pd\n",
    "import matplotlib.pyplot as plt\n",
    "import seaborn as sns\n",
    "import os\n",
    "import re\n"
   ]
  },
  {
   "cell_type": "code",
   "execution_count": 21,
   "metadata": {},
   "outputs": [],
   "source": [
    "def clean_water_quality_df(df, bdl_default=0.05):\n",
    "    df_clean = df.copy()\n",
    "\n",
    "    for col in df_clean.columns:\n",
    "        if '_Min' in col or '_Max' in col:\n",
    "            df_clean[col] = df_clean[col].astype(str)\n",
    "\n",
    "            def bdl_to_numeric(val):\n",
    "                val = val.strip()\n",
    "                if val.startswith('BDL'):\n",
    "                    match = re.search(r'BDL\\(?([0-9.]+)?\\)?', val)\n",
    "                    if match and match.group(1):\n",
    "                        return float(match.group(1)) / 2\n",
    "                    else:\n",
    "                        return bdl_default\n",
    "                try:\n",
    "                    return float(val)\n",
    "                except:\n",
    "                    return None\n",
    "\n",
    "            df_clean[col] = df_clean[col].apply(bdl_to_numeric)\n",
    "\n",
    "    # Average values\n",
    "    for col in df_clean.columns:\n",
    "        if '_Min' in col:\n",
    "            base = col.replace('_Min', '')\n",
    "            max_col = base + '_Max'\n",
    "            if max_col in df_clean.columns:\n",
    "                df_clean[base] = (df_clean[col] + df_clean[max_col]) / 2\n",
    "\n",
    "    return df_clean\n"
   ]
  },
  {
   "cell_type": "code",
   "execution_count": null,
   "metadata": {},
   "outputs": [
    {
     "name": "stdout",
     "output_type": "stream",
     "text": [
      "Index(['STATION CODE', 'STATE', 'TEMPERATURE_Min', 'TEMPERATURE_Max', 'DO_Min',\n",
      "       'DO_MAX', 'pH_Min', 'PH_Max', 'CONDUCTIVITY_Min', 'CONDUCTIVITY_Max',\n",
      "       'BOD_Min', 'BOD_Max', 'NITRATE_NITRATE_Min', 'NITRATE_NITRATE_Max',\n",
      "       'FECALCOLIFORM_Min', 'FECALCOLIFORM_Max', 'TOTALCOLIFORM_Min',\n",
      "       'TOTALCOLIFORM_Max'],\n",
      "      dtype='object')\n",
      "Index(['STATION CODE', 'STATE', 'TEMPERATURE_Min', 'TEMPERATURE_Max', 'DO_Min',\n",
      "       'DO_MAX', 'pH_Min', 'PH_Max', 'CONDUCTIVITY_Min', 'CONDUCTIVITY_Max',\n",
      "       'BOD_Min', 'BOD_Max', 'NITRATE_NITRATE_Min', 'NITRATE_NITRATE_Max',\n",
      "       'FECALCOLIFORM_Min', 'FECALCOLIFORM_Max', 'TOTALCOLIFORM_Min',\n",
      "       'TOTALCOLIFORM_Max'],\n",
      "      dtype='object')\n",
      "Index(['STATION CODE', 'STATE', 'TEMPERATURE_Min', 'TEMPERATURE_Max', 'DO_Min',\n",
      "       'DO_MAX', 'pH_Min', 'PH_Max', 'CONDUCTIVITY_Min', 'CONDUCTIVITY_Max',\n",
      "       'BOD_Min', 'BOD_Max', 'NITRATE_NITRATE_Min', 'NITRATE_NITRATE_Max',\n",
      "       'FECALCOLIFORM_Min', 'FECALCOLIFORM_Max', 'TOTALCOLIFORM_Min',\n",
      "       'TOTALCOLIFORM_Max'],\n",
      "      dtype='object')\n",
      "Index(['STATION CODE', 'STATE', 'TEMPERATURE_Min', 'TEMPERATURE_Max', 'DO_Min',\n",
      "       'DO_MAX', 'pH_Min', 'PH_Max', 'CONDUCTIVITY_Min', 'CONDUCTIVITY_Max',\n",
      "       'BOD_Min', 'BOD_Max', 'NITRATE_NITRATE_Min', 'NITRATE_NITRATE_Max',\n",
      "       'FECALCOLIFORM_Min', 'FECALCOLIFORM_Max', 'TOTALCOLIFORM_Min',\n",
      "       'TOTALCOLIFORM_Max'],\n",
      "      dtype='object')\n",
      "Index(['STATION CODE', 'STATE', 'TEMPERATURE_Min', 'TEMPERATURE_Max', 'DO_Min',\n",
      "       'DO_MAX', 'pH_Min', 'PH_Max', 'CONDUCTIVITY_Min', 'CONDUCTIVITY_Max',\n",
      "       'BOD_Min', 'BOD_Max', 'NITRATE_NITRATE_Min', 'NITRATE_NITRATE_Max',\n",
      "       'FECALCOLIFORM_Min', 'FECALCOLIFORM_Max', 'TOTALCOLIFORM_Min',\n",
      "       'TOTALCOLIFORM_Max'],\n",
      "      dtype='object')\n",
      "Index(['STATION CODE', 'STATE', 'TEMPERATURE_Min', 'TEMPERATURE_Max', 'DO_Min',\n",
      "       'DO_MAX', 'pH_Min', 'PH_Max', 'CONDUCTIVITY_Min', 'CONDUCTIVITY_Max',\n",
      "       'BOD_Min', 'BOD_Max', 'NITRATE_NITRATE_Min', 'NITRATE_NITRATE_Max',\n",
      "       'FECALCOLIFORM_Min', 'FECALCOLIFORM_Max', 'TOTALCOLIFORM_Min',\n",
      "       'TOTALCOLIFORM_Max'],\n",
      "      dtype='object')\n",
      "Index(['STATION CODE', 'STATE', 'TEMPERATURE_Min', 'TEMPERATURE_Max', 'DO_Min',\n",
      "       'DO_MAX', 'pH_Min', 'PH_Max', 'CONDUCTIVITY_Min', 'CONDUCTIVITY_Max',\n",
      "       'BOD_Min', 'BOD_Max', 'NITRATE_NITRATE_Min', 'NITRATE_NITRATE_Max',\n",
      "       'FECALCOLIFORM_Min', 'FECALCOLIFORM_Max', 'TOTALCOLIFORM_Min',\n",
      "       'TOTALCOLIFORM_Max'],\n",
      "      dtype='object')\n",
      "Index(['STATION CODE', 'STATE', 'TEMPERATURE_Min', 'TEMPERATURE_Max', 'DO_Min',\n",
      "       'DO_MAX', 'pH_Min', 'PH_Max', 'CONDUCTIVITY_Min', 'CONDUCTIVITY_Max',\n",
      "       'BOD_Min', 'BOD_Max', 'NITRATE_NITRATE_Min', 'NITRATE_NITRATE_Max',\n",
      "       'FECALCOLIFORM_Min', 'FECALCOLIFORM_Max', 'TOTALCOLIFORM_Min',\n",
      "       'TOTALCOLIFORM_Max', 'FecalStreptococci_Min', 'FecalStreptococci_Max'],\n",
      "      dtype='object')\n",
      "Index(['STATION CODE', 'STATE', 'TEMPERATURE_Min', 'TEMPERATURE_Max', 'DO_Min',\n",
      "       'DO_MAX', 'pH_Min', 'PH_Max', 'CONDUCTIVITY_Min', 'CONDUCTIVITY_Max',\n",
      "       'BOD_Min', 'BOD_Max', 'NITRATE_NITRATE_Min', 'NITRATE_NITRATE_Max',\n",
      "       'FECALCOLIFORM_Min', 'FECALCOLIFORM_Max', 'TOTALCOLIFORM_Min',\n",
      "       'TOTALCOLIFORM_Max', 'FecalStreptococci_Min', 'FecalStreptococci_Max',\n",
      "       'Unnamed: 20'],\n",
      "      dtype='object')\n",
      "Index(['STATION CODE', 'STATE', 'TEMPERATURE_Min', 'TEMPERATURE_Max', 'DO_Min',\n",
      "       'DO_MAX', 'pH_Min', 'PH_Max', 'CONDUCTIVITY_Min', 'CONDUCTIVITY_Max',\n",
      "       'BOD_Min', 'BOD_Max', 'NITRATE_NITRATE_Min', 'NITRATE_NITRATE_Max',\n",
      "       'FECALCOLIFORM_Min', 'FECALCOLIFORM_Max', 'TOTALCOLIFORM_Min',\n",
      "       'TOTALCOLIFORM_Max', 'FecalStreptococci_Min', 'FecalStreptococci_Max'],\n",
      "      dtype='object')\n",
      "Index(['STATION CODE', 'STATE', 'TEMPERATURE_Min', 'TEMPERATURE_Max', 'DO_Min',\n",
      "       'DO_MAX', 'pH_Min', 'PH_Max', 'CONDUCTIVITY_Min', 'CONDUCTIVITY_Max',\n",
      "       'BOD_Min', 'BOD_Max', 'NITRATE_NITRATE_Min', 'NITRATE_NITRATE_Max',\n",
      "       'FECALCOLIFORM_Min', 'FECALCOLIFORM_Max', 'TOTALCOLIFORM_Min',\n",
      "       'TOTALCOLIFORM_Max', 'FecalStreptococci_Min', 'FecalStreptococci_Max'],\n",
      "      dtype='object')\n",
      "Index(['STATION CODE', 'STATE', 'TEMPERATURE_Min', 'TEMPERATURE_Max', 'DO_Min',\n",
      "       'DO_MAX', 'pH_Min', 'PH_Max', 'CONDUCTIVITY_Min', 'CONDUCTIVITY_Max',\n",
      "       'BOD_Min', 'BOD_Max', 'NITRATE_NITRATE_Min', 'NITRATE_NITRATE_Max',\n",
      "       'FECALCOLIFORM_Min', 'FECALCOLIFORM_Max', 'TOTALCOLIFORM_Min',\n",
      "       'TOTALCOLIFORM_Max', 'FecalStreptococci_Min', 'FecalStreptococci_Max'],\n",
      "      dtype='object')\n"
     ]
    }
   ],
   "source": [
    "from glob import glob\n",
    "\n",
    "# Folder path to rivers\n",
    "river_path = 'data/rivers/'\n",
    "files = sorted(glob(os.path.join(river_path, 'rivers_*.csv')))\n",
    "\n",
    "dfs = []\n",
    "for file in files:\n",
    "    year = int(os.path.basename(file).split('_')[-1].split('.')[0])\n",
    "    df = pd.read_csv(file, encoding='latin1')\n",
    "    #print river df columns  \n",
    "    print(df.columns)\n",
    "\n",
    "    df['Year'] = year\n",
    "    df = clean_water_quality_df(df)\n",
    "    dfs.append(df)\n",
    "\n",
    "# Combine all years into one DataFrame\n",
    "river_df = pd.concat(dfs, ignore_index=True)\n",
    "\n",
    "# Optional: drop _Min and _Max columns\n",
    "cols_to_drop = [col for col in river_df.columns if '_Min' in col or '_Max' in col]\n",
    "river_df.drop(columns=cols_to_drop, inplace=True)\n"
   ]
  },
  {
   "cell_type": "code",
   "execution_count": 26,
   "metadata": {},
   "outputs": [
    {
     "name": "stdout",
     "output_type": "stream",
     "text": [
      "Index(['STATION CODE', 'STATE', 'DO_MAX', 'Year', 'TEMPERATURE',\n",
      "       'CONDUCTIVITY', 'BOD', 'NITRATE_NITRATE', 'FECALCOLIFORM',\n",
      "       'TOTALCOLIFORM', 'FecalStreptococci', 'Unnamed: 20'],\n",
      "      dtype='object')\n",
      "STATE             Year\n",
      "MADHYA PRADESH    2023    161\n",
      "                  2022    152\n",
      "MAHARASHTRA       2012    147\n",
      "HIMACHAL PRADESH  2023    144\n",
      "                  2022    137\n",
      "Name: count, dtype: int64\n"
     ]
    }
   ],
   "source": [
    "print(river_df.columns)\n",
    "print(river_df[['STATE', 'Year']].value_counts().head())\n"
   ]
  },
  {
   "cell_type": "code",
   "execution_count": null,
   "metadata": {},
   "outputs": [],
   "source": []
  },
  {
   "cell_type": "code",
   "execution_count": 27,
   "metadata": {},
   "outputs": [
    {
     "name": "stdout",
     "output_type": "stream",
     "text": [
      "['STATION CODE', 'STATE', 'DO_MAX', 'Year', 'TEMPERATURE', 'CONDUCTIVITY', 'BOD', 'NITRATE_NITRATE', 'FECALCOLIFORM', 'TOTALCOLIFORM', 'FecalStreptococci', 'Unnamed: 20']\n"
     ]
    }
   ],
   "source": [
    "print(river_df.columns.tolist())\n"
   ]
  },
  {
   "cell_type": "code",
   "execution_count": 30,
   "metadata": {},
   "outputs": [
    {
     "ename": "ValueError",
     "evalue": "Could not interpret value `do_max` for `y`. An entry with this name does not appear in `data`.",
     "output_type": "error",
     "traceback": [
      "\u001b[1;31m---------------------------------------------------------------------------\u001b[0m",
      "\u001b[1;31mValueError\u001b[0m                                Traceback (most recent call last)",
      "Cell \u001b[1;32mIn[30], line 11\u001b[0m\n\u001b[0;32m      9\u001b[0m \u001b[38;5;28;01mfor\u001b[39;00m i, param \u001b[38;5;129;01min\u001b[39;00m \u001b[38;5;28menumerate\u001b[39m(params):\n\u001b[0;32m     10\u001b[0m     plt\u001b[38;5;241m.\u001b[39msubplot(\u001b[38;5;241m2\u001b[39m, \u001b[38;5;241m3\u001b[39m, i\u001b[38;5;241m+\u001b[39m\u001b[38;5;241m1\u001b[39m)\n\u001b[1;32m---> 11\u001b[0m     \u001b[43msns\u001b[49m\u001b[38;5;241;43m.\u001b[39;49m\u001b[43mlineplot\u001b[49m\u001b[43m(\u001b[49m\u001b[43mdata\u001b[49m\u001b[38;5;241;43m=\u001b[39;49m\u001b[43mgrouped\u001b[49m\u001b[43m,\u001b[49m\u001b[43m \u001b[49m\u001b[43mx\u001b[49m\u001b[38;5;241;43m=\u001b[39;49m\u001b[38;5;124;43m'\u001b[39;49m\u001b[38;5;124;43mYear\u001b[39;49m\u001b[38;5;124;43m'\u001b[39;49m\u001b[43m,\u001b[49m\u001b[43m \u001b[49m\u001b[43my\u001b[49m\u001b[38;5;241;43m=\u001b[39;49m\u001b[43mparam\u001b[49m\u001b[43m)\u001b[49m\n\u001b[0;32m     12\u001b[0m     plt\u001b[38;5;241m.\u001b[39mtitle(\u001b[38;5;124mf\u001b[39m\u001b[38;5;124m\"\u001b[39m\u001b[38;5;132;01m{\u001b[39;00mparam\u001b[38;5;132;01m}\u001b[39;00m\u001b[38;5;124m Trend\u001b[39m\u001b[38;5;124m\"\u001b[39m)\n\u001b[0;32m     13\u001b[0m     plt\u001b[38;5;241m.\u001b[39mxlabel(\u001b[38;5;124m'\u001b[39m\u001b[38;5;124mYear\u001b[39m\u001b[38;5;124m'\u001b[39m)\n",
      "File \u001b[1;32mc:\\Python312\\Lib\\site-packages\\seaborn\\relational.py:485\u001b[0m, in \u001b[0;36mlineplot\u001b[1;34m(data, x, y, hue, size, style, units, weights, palette, hue_order, hue_norm, sizes, size_order, size_norm, dashes, markers, style_order, estimator, errorbar, n_boot, seed, orient, sort, err_style, err_kws, legend, ci, ax, **kwargs)\u001b[0m\n\u001b[0;32m    471\u001b[0m \u001b[38;5;28;01mdef\u001b[39;00m \u001b[38;5;21mlineplot\u001b[39m(\n\u001b[0;32m    472\u001b[0m     data\u001b[38;5;241m=\u001b[39m\u001b[38;5;28;01mNone\u001b[39;00m, \u001b[38;5;241m*\u001b[39m,\n\u001b[0;32m    473\u001b[0m     x\u001b[38;5;241m=\u001b[39m\u001b[38;5;28;01mNone\u001b[39;00m, y\u001b[38;5;241m=\u001b[39m\u001b[38;5;28;01mNone\u001b[39;00m, hue\u001b[38;5;241m=\u001b[39m\u001b[38;5;28;01mNone\u001b[39;00m, size\u001b[38;5;241m=\u001b[39m\u001b[38;5;28;01mNone\u001b[39;00m, style\u001b[38;5;241m=\u001b[39m\u001b[38;5;28;01mNone\u001b[39;00m, units\u001b[38;5;241m=\u001b[39m\u001b[38;5;28;01mNone\u001b[39;00m, weights\u001b[38;5;241m=\u001b[39m\u001b[38;5;28;01mNone\u001b[39;00m,\n\u001b[1;32m   (...)\u001b[0m\n\u001b[0;32m    481\u001b[0m \n\u001b[0;32m    482\u001b[0m     \u001b[38;5;66;03m# Handle deprecation of ci parameter\u001b[39;00m\n\u001b[0;32m    483\u001b[0m     errorbar \u001b[38;5;241m=\u001b[39m _deprecate_ci(errorbar, ci)\n\u001b[1;32m--> 485\u001b[0m     p \u001b[38;5;241m=\u001b[39m \u001b[43m_LinePlotter\u001b[49m\u001b[43m(\u001b[49m\n\u001b[0;32m    486\u001b[0m \u001b[43m        \u001b[49m\u001b[43mdata\u001b[49m\u001b[38;5;241;43m=\u001b[39;49m\u001b[43mdata\u001b[49m\u001b[43m,\u001b[49m\n\u001b[0;32m    487\u001b[0m \u001b[43m        \u001b[49m\u001b[43mvariables\u001b[49m\u001b[38;5;241;43m=\u001b[39;49m\u001b[38;5;28;43mdict\u001b[39;49m\u001b[43m(\u001b[49m\n\u001b[0;32m    488\u001b[0m \u001b[43m            \u001b[49m\u001b[43mx\u001b[49m\u001b[38;5;241;43m=\u001b[39;49m\u001b[43mx\u001b[49m\u001b[43m,\u001b[49m\u001b[43m \u001b[49m\u001b[43my\u001b[49m\u001b[38;5;241;43m=\u001b[39;49m\u001b[43my\u001b[49m\u001b[43m,\u001b[49m\u001b[43m \u001b[49m\u001b[43mhue\u001b[49m\u001b[38;5;241;43m=\u001b[39;49m\u001b[43mhue\u001b[49m\u001b[43m,\u001b[49m\u001b[43m \u001b[49m\u001b[43msize\u001b[49m\u001b[38;5;241;43m=\u001b[39;49m\u001b[43msize\u001b[49m\u001b[43m,\u001b[49m\u001b[43m \u001b[49m\u001b[43mstyle\u001b[49m\u001b[38;5;241;43m=\u001b[39;49m\u001b[43mstyle\u001b[49m\u001b[43m,\u001b[49m\u001b[43m \u001b[49m\u001b[43munits\u001b[49m\u001b[38;5;241;43m=\u001b[39;49m\u001b[43munits\u001b[49m\u001b[43m,\u001b[49m\u001b[43m \u001b[49m\u001b[43mweight\u001b[49m\u001b[38;5;241;43m=\u001b[39;49m\u001b[43mweights\u001b[49m\n\u001b[0;32m    489\u001b[0m \u001b[43m        \u001b[49m\u001b[43m)\u001b[49m\u001b[43m,\u001b[49m\n\u001b[0;32m    490\u001b[0m \u001b[43m        \u001b[49m\u001b[43mestimator\u001b[49m\u001b[38;5;241;43m=\u001b[39;49m\u001b[43mestimator\u001b[49m\u001b[43m,\u001b[49m\u001b[43m \u001b[49m\u001b[43mn_boot\u001b[49m\u001b[38;5;241;43m=\u001b[39;49m\u001b[43mn_boot\u001b[49m\u001b[43m,\u001b[49m\u001b[43m \u001b[49m\u001b[43mseed\u001b[49m\u001b[38;5;241;43m=\u001b[39;49m\u001b[43mseed\u001b[49m\u001b[43m,\u001b[49m\u001b[43m \u001b[49m\u001b[43merrorbar\u001b[49m\u001b[38;5;241;43m=\u001b[39;49m\u001b[43merrorbar\u001b[49m\u001b[43m,\u001b[49m\n\u001b[0;32m    491\u001b[0m \u001b[43m        \u001b[49m\u001b[43msort\u001b[49m\u001b[38;5;241;43m=\u001b[39;49m\u001b[43msort\u001b[49m\u001b[43m,\u001b[49m\u001b[43m \u001b[49m\u001b[43morient\u001b[49m\u001b[38;5;241;43m=\u001b[39;49m\u001b[43morient\u001b[49m\u001b[43m,\u001b[49m\u001b[43m \u001b[49m\u001b[43merr_style\u001b[49m\u001b[38;5;241;43m=\u001b[39;49m\u001b[43merr_style\u001b[49m\u001b[43m,\u001b[49m\u001b[43m \u001b[49m\u001b[43merr_kws\u001b[49m\u001b[38;5;241;43m=\u001b[39;49m\u001b[43merr_kws\u001b[49m\u001b[43m,\u001b[49m\n\u001b[0;32m    492\u001b[0m \u001b[43m        \u001b[49m\u001b[43mlegend\u001b[49m\u001b[38;5;241;43m=\u001b[39;49m\u001b[43mlegend\u001b[49m\u001b[43m,\u001b[49m\n\u001b[0;32m    493\u001b[0m \u001b[43m    \u001b[49m\u001b[43m)\u001b[49m\n\u001b[0;32m    495\u001b[0m     p\u001b[38;5;241m.\u001b[39mmap_hue(palette\u001b[38;5;241m=\u001b[39mpalette, order\u001b[38;5;241m=\u001b[39mhue_order, norm\u001b[38;5;241m=\u001b[39mhue_norm)\n\u001b[0;32m    496\u001b[0m     p\u001b[38;5;241m.\u001b[39mmap_size(sizes\u001b[38;5;241m=\u001b[39msizes, order\u001b[38;5;241m=\u001b[39msize_order, norm\u001b[38;5;241m=\u001b[39msize_norm)\n",
      "File \u001b[1;32mc:\\Python312\\Lib\\site-packages\\seaborn\\relational.py:216\u001b[0m, in \u001b[0;36m_LinePlotter.__init__\u001b[1;34m(self, data, variables, estimator, n_boot, seed, errorbar, sort, orient, err_style, err_kws, legend)\u001b[0m\n\u001b[0;32m    202\u001b[0m \u001b[38;5;28;01mdef\u001b[39;00m \u001b[38;5;21m__init__\u001b[39m(\n\u001b[0;32m    203\u001b[0m     \u001b[38;5;28mself\u001b[39m, \u001b[38;5;241m*\u001b[39m,\n\u001b[0;32m    204\u001b[0m     data\u001b[38;5;241m=\u001b[39m\u001b[38;5;28;01mNone\u001b[39;00m, variables\u001b[38;5;241m=\u001b[39m{},\n\u001b[1;32m   (...)\u001b[0m\n\u001b[0;32m    210\u001b[0m     \u001b[38;5;66;03m# the kind of plot to draw, but for the time being we need to set\u001b[39;00m\n\u001b[0;32m    211\u001b[0m     \u001b[38;5;66;03m# this information so the SizeMapping can use it\u001b[39;00m\n\u001b[0;32m    212\u001b[0m     \u001b[38;5;28mself\u001b[39m\u001b[38;5;241m.\u001b[39m_default_size_range \u001b[38;5;241m=\u001b[39m (\n\u001b[0;32m    213\u001b[0m         np\u001b[38;5;241m.\u001b[39mr_[\u001b[38;5;241m.5\u001b[39m, \u001b[38;5;241m2\u001b[39m] \u001b[38;5;241m*\u001b[39m mpl\u001b[38;5;241m.\u001b[39mrcParams[\u001b[38;5;124m\"\u001b[39m\u001b[38;5;124mlines.linewidth\u001b[39m\u001b[38;5;124m\"\u001b[39m]\n\u001b[0;32m    214\u001b[0m     )\n\u001b[1;32m--> 216\u001b[0m     \u001b[38;5;28;43msuper\u001b[39;49m\u001b[43m(\u001b[49m\u001b[43m)\u001b[49m\u001b[38;5;241;43m.\u001b[39;49m\u001b[38;5;21;43m__init__\u001b[39;49m\u001b[43m(\u001b[49m\u001b[43mdata\u001b[49m\u001b[38;5;241;43m=\u001b[39;49m\u001b[43mdata\u001b[49m\u001b[43m,\u001b[49m\u001b[43m \u001b[49m\u001b[43mvariables\u001b[49m\u001b[38;5;241;43m=\u001b[39;49m\u001b[43mvariables\u001b[49m\u001b[43m)\u001b[49m\n\u001b[0;32m    218\u001b[0m     \u001b[38;5;28mself\u001b[39m\u001b[38;5;241m.\u001b[39mestimator \u001b[38;5;241m=\u001b[39m estimator\n\u001b[0;32m    219\u001b[0m     \u001b[38;5;28mself\u001b[39m\u001b[38;5;241m.\u001b[39merrorbar \u001b[38;5;241m=\u001b[39m errorbar\n",
      "File \u001b[1;32mc:\\Python312\\Lib\\site-packages\\seaborn\\_base.py:634\u001b[0m, in \u001b[0;36mVectorPlotter.__init__\u001b[1;34m(self, data, variables)\u001b[0m\n\u001b[0;32m    629\u001b[0m \u001b[38;5;66;03m# var_ordered is relevant only for categorical axis variables, and may\u001b[39;00m\n\u001b[0;32m    630\u001b[0m \u001b[38;5;66;03m# be better handled by an internal axis information object that tracks\u001b[39;00m\n\u001b[0;32m    631\u001b[0m \u001b[38;5;66;03m# such information and is set up by the scale_* methods. The analogous\u001b[39;00m\n\u001b[0;32m    632\u001b[0m \u001b[38;5;66;03m# information for numeric axes would be information about log scales.\u001b[39;00m\n\u001b[0;32m    633\u001b[0m \u001b[38;5;28mself\u001b[39m\u001b[38;5;241m.\u001b[39m_var_ordered \u001b[38;5;241m=\u001b[39m {\u001b[38;5;124m\"\u001b[39m\u001b[38;5;124mx\u001b[39m\u001b[38;5;124m\"\u001b[39m: \u001b[38;5;28;01mFalse\u001b[39;00m, \u001b[38;5;124m\"\u001b[39m\u001b[38;5;124my\u001b[39m\u001b[38;5;124m\"\u001b[39m: \u001b[38;5;28;01mFalse\u001b[39;00m}  \u001b[38;5;66;03m# alt., used DefaultDict\u001b[39;00m\n\u001b[1;32m--> 634\u001b[0m \u001b[38;5;28;43mself\u001b[39;49m\u001b[38;5;241;43m.\u001b[39;49m\u001b[43massign_variables\u001b[49m\u001b[43m(\u001b[49m\u001b[43mdata\u001b[49m\u001b[43m,\u001b[49m\u001b[43m \u001b[49m\u001b[43mvariables\u001b[49m\u001b[43m)\u001b[49m\n\u001b[0;32m    636\u001b[0m \u001b[38;5;66;03m# TODO Lots of tests assume that these are called to initialize the\u001b[39;00m\n\u001b[0;32m    637\u001b[0m \u001b[38;5;66;03m# mappings to default values on class initialization. I'd prefer to\u001b[39;00m\n\u001b[0;32m    638\u001b[0m \u001b[38;5;66;03m# move away from that and only have a mapping when explicitly called.\u001b[39;00m\n\u001b[0;32m    639\u001b[0m \u001b[38;5;28;01mfor\u001b[39;00m var \u001b[38;5;129;01min\u001b[39;00m [\u001b[38;5;124m\"\u001b[39m\u001b[38;5;124mhue\u001b[39m\u001b[38;5;124m\"\u001b[39m, \u001b[38;5;124m\"\u001b[39m\u001b[38;5;124msize\u001b[39m\u001b[38;5;124m\"\u001b[39m, \u001b[38;5;124m\"\u001b[39m\u001b[38;5;124mstyle\u001b[39m\u001b[38;5;124m\"\u001b[39m]:\n",
      "File \u001b[1;32mc:\\Python312\\Lib\\site-packages\\seaborn\\_base.py:679\u001b[0m, in \u001b[0;36mVectorPlotter.assign_variables\u001b[1;34m(self, data, variables)\u001b[0m\n\u001b[0;32m    674\u001b[0m \u001b[38;5;28;01melse\u001b[39;00m:\n\u001b[0;32m    675\u001b[0m     \u001b[38;5;66;03m# When dealing with long-form input, use the newer PlotData\u001b[39;00m\n\u001b[0;32m    676\u001b[0m     \u001b[38;5;66;03m# object (internal but introduced for the objects interface)\u001b[39;00m\n\u001b[0;32m    677\u001b[0m     \u001b[38;5;66;03m# to centralize / standardize data consumption logic.\u001b[39;00m\n\u001b[0;32m    678\u001b[0m     \u001b[38;5;28mself\u001b[39m\u001b[38;5;241m.\u001b[39minput_format \u001b[38;5;241m=\u001b[39m \u001b[38;5;124m\"\u001b[39m\u001b[38;5;124mlong\u001b[39m\u001b[38;5;124m\"\u001b[39m\n\u001b[1;32m--> 679\u001b[0m     plot_data \u001b[38;5;241m=\u001b[39m \u001b[43mPlotData\u001b[49m\u001b[43m(\u001b[49m\u001b[43mdata\u001b[49m\u001b[43m,\u001b[49m\u001b[43m \u001b[49m\u001b[43mvariables\u001b[49m\u001b[43m)\u001b[49m\n\u001b[0;32m    680\u001b[0m     frame \u001b[38;5;241m=\u001b[39m plot_data\u001b[38;5;241m.\u001b[39mframe\n\u001b[0;32m    681\u001b[0m     names \u001b[38;5;241m=\u001b[39m plot_data\u001b[38;5;241m.\u001b[39mnames\n",
      "File \u001b[1;32mc:\\Python312\\Lib\\site-packages\\seaborn\\_core\\data.py:58\u001b[0m, in \u001b[0;36mPlotData.__init__\u001b[1;34m(self, data, variables)\u001b[0m\n\u001b[0;32m     51\u001b[0m \u001b[38;5;28;01mdef\u001b[39;00m \u001b[38;5;21m__init__\u001b[39m(\n\u001b[0;32m     52\u001b[0m     \u001b[38;5;28mself\u001b[39m,\n\u001b[0;32m     53\u001b[0m     data: DataSource,\n\u001b[0;32m     54\u001b[0m     variables: \u001b[38;5;28mdict\u001b[39m[\u001b[38;5;28mstr\u001b[39m, VariableSpec],\n\u001b[0;32m     55\u001b[0m ):\n\u001b[0;32m     57\u001b[0m     data \u001b[38;5;241m=\u001b[39m handle_data_source(data)\n\u001b[1;32m---> 58\u001b[0m     frame, names, ids \u001b[38;5;241m=\u001b[39m \u001b[38;5;28;43mself\u001b[39;49m\u001b[38;5;241;43m.\u001b[39;49m\u001b[43m_assign_variables\u001b[49m\u001b[43m(\u001b[49m\u001b[43mdata\u001b[49m\u001b[43m,\u001b[49m\u001b[43m \u001b[49m\u001b[43mvariables\u001b[49m\u001b[43m)\u001b[49m\n\u001b[0;32m     60\u001b[0m     \u001b[38;5;28mself\u001b[39m\u001b[38;5;241m.\u001b[39mframe \u001b[38;5;241m=\u001b[39m frame\n\u001b[0;32m     61\u001b[0m     \u001b[38;5;28mself\u001b[39m\u001b[38;5;241m.\u001b[39mnames \u001b[38;5;241m=\u001b[39m names\n",
      "File \u001b[1;32mc:\\Python312\\Lib\\site-packages\\seaborn\\_core\\data.py:232\u001b[0m, in \u001b[0;36mPlotData._assign_variables\u001b[1;34m(self, data, variables)\u001b[0m\n\u001b[0;32m    230\u001b[0m     \u001b[38;5;28;01melse\u001b[39;00m:\n\u001b[0;32m    231\u001b[0m         err \u001b[38;5;241m+\u001b[39m\u001b[38;5;241m=\u001b[39m \u001b[38;5;124m\"\u001b[39m\u001b[38;5;124mAn entry with this name does not appear in `data`.\u001b[39m\u001b[38;5;124m\"\u001b[39m\n\u001b[1;32m--> 232\u001b[0m     \u001b[38;5;28;01mraise\u001b[39;00m \u001b[38;5;167;01mValueError\u001b[39;00m(err)\n\u001b[0;32m    234\u001b[0m \u001b[38;5;28;01melse\u001b[39;00m:\n\u001b[0;32m    235\u001b[0m \n\u001b[0;32m    236\u001b[0m     \u001b[38;5;66;03m# Otherwise, assume the value somehow represents data\u001b[39;00m\n\u001b[0;32m    237\u001b[0m \n\u001b[0;32m    238\u001b[0m     \u001b[38;5;66;03m# Ignore empty data structures\u001b[39;00m\n\u001b[0;32m    239\u001b[0m     \u001b[38;5;28;01mif\u001b[39;00m \u001b[38;5;28misinstance\u001b[39m(val, Sized) \u001b[38;5;129;01mand\u001b[39;00m \u001b[38;5;28mlen\u001b[39m(val) \u001b[38;5;241m==\u001b[39m \u001b[38;5;241m0\u001b[39m:\n",
      "\u001b[1;31mValueError\u001b[0m: Could not interpret value `do_max` for `y`. An entry with this name does not appear in `data`."
     ]
    },
    {
     "data": {
      "image/png": "[encoded data removed]",
      "text/plain": [
       "<Figure size 1500x1000 with 1 Axes>"
      ]
     },
     "metadata": {},
     "output_type": "display_data"
    }
   ],
   "source": [
    "# Parameters to visualize\n",
    "params = ['do_max', 'ph_min', 'bod', 'nitrate_nitrate', 'fecalcoliform', 'totalcoliform']\n",
    "\n",
    "\n",
    "# Group by year and state\n",
    "grouped = river_df.groupby(['Year']).mean(numeric_only=True).reset_index()\n",
    "\n",
    "plt.figure(figsize=(15, 10))\n",
    "for i, param in enumerate(params):\n",
    "    plt.subplot(2, 3, i+1)\n",
    "    sns.lineplot(data=grouped, x='Year', y=param)\n",
    "    plt.title(f\"{param} Trend\")\n",
    "    plt.xlabel('Year')\n",
    "    plt.ylabel(param)\n",
    "\n",
    "plt.tight_layout()\n",
    "plt.show()\n",
    "\n"
   ]
  }
 ],
 "metadata": {
  "kernelspec": {
   "display_name": "Python 3",
   "language": "python",
   "name": "python3"
  },
  "language_info": {
   "codemirror_mode": {
    "name": "ipython",
    "version": 3
   },
   "file_extension": ".py",
   "mimetype": "text/x-python",
   "name": "python",
   "nbconvert_exporter": "python",
   "pygments_lexer": "ipython3",
   "version": "3.12.1"
  }
 },
 "nbformat": 4,
 "nbformat_minor": 2
}
